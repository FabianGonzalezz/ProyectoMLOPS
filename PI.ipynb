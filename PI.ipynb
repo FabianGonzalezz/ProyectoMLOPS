{
 "cells": [
  {
   "cell_type": "code",
   "execution_count": 1,
   "metadata": {},
   "outputs": [],
   "source": [
    "import pandas as pd\n",
    "import numpy as np\n",
    "import ast"
   ]
  },
  {
   "cell_type": "code",
   "execution_count": null,
   "metadata": {},
   "outputs": [],
   "source": [
    "#Este archivo JSON esta con comillas simples por lo que no se puede realizar una carga directa a pandas."
   ]
  },
  {
   "cell_type": "code",
   "execution_count": 451,
   "metadata": {},
   "outputs": [],
   "source": [
    "#Convierto el archivo json en una lista de python por lineas.\n",
    "lineas_js = []\n",
    "with open('./src/steam_games.json') as f:\n",
    "    for line in f.readlines():\n",
    "        lineas_js.append(ast.literal_eval(line))\n",
    "\n",
    "\n",
    "df = pd.DataFrame(lineas_js)"
   ]
  },
  {
   "cell_type": "code",
   "execution_count": 52,
   "metadata": {},
   "outputs": [],
   "source": [
    "# Elimino los registros que contienen precio nulo porque si el objetivo es predecir el precio considero que estos registros no me aportan al entrenamiento de mi modelo. Aprox 4% de los registros del dataset total.\n",
    "#df = df.dropna(subset=['price'])"
   ]
  },
  {
   "cell_type": "code",
   "execution_count": 64,
   "metadata": {},
   "outputs": [],
   "source": [
    "#Elimino las columnas url y reviews_url porque no las considero relevantes en este caso.\n",
    "#df = df.drop(columns=['url', 'reviews_url'])"
   ]
  },
  {
   "cell_type": "code",
   "execution_count": 452,
   "metadata": {},
   "outputs": [],
   "source": [
    "# Relleno los nulos en 'title' con los valores de 'app_name y elimino title para evitar redundancias.\n",
    "\n",
    "df['title'] = df.apply(lambda row: row['app_name'] if pd.isnull(row['title']) else row['title'], axis=1)\n",
    "df = df.drop(columns='app_name')"
   ]
  },
  {
   "cell_type": "code",
   "execution_count": 453,
   "metadata": {},
   "outputs": [
    {
     "data": {
      "text/html": [
       "<div>\n",
       "<style scoped>\n",
       "    .dataframe tbody tr th:only-of-type {\n",
       "        vertical-align: middle;\n",
       "    }\n",
       "\n",
       "    .dataframe tbody tr th {\n",
       "        vertical-align: top;\n",
       "    }\n",
       "\n",
       "    .dataframe thead th {\n",
       "        text-align: right;\n",
       "    }\n",
       "</style>\n",
       "<table border=\"1\" class=\"dataframe\">\n",
       "  <thead>\n",
       "    <tr style=\"text-align: right;\">\n",
       "      <th></th>\n",
       "      <th>publisher</th>\n",
       "      <th>genres</th>\n",
       "      <th>title</th>\n",
       "      <th>url</th>\n",
       "      <th>release_date</th>\n",
       "      <th>tags</th>\n",
       "      <th>discount_price</th>\n",
       "      <th>reviews_url</th>\n",
       "      <th>specs</th>\n",
       "      <th>price</th>\n",
       "      <th>early_access</th>\n",
       "      <th>id</th>\n",
       "      <th>developer</th>\n",
       "      <th>sentiment</th>\n",
       "      <th>metascore</th>\n",
       "    </tr>\n",
       "  </thead>\n",
       "  <tbody>\n",
       "    <tr>\n",
       "      <th>74</th>\n",
       "      <td>NaN</td>\n",
       "      <td>NaN</td>\n",
       "      <td>NaN</td>\n",
       "      <td>http://store.steampowered.com/</td>\n",
       "      <td>NaN</td>\n",
       "      <td>NaN</td>\n",
       "      <td>14.99</td>\n",
       "      <td>NaN</td>\n",
       "      <td>NaN</td>\n",
       "      <td>19.99</td>\n",
       "      <td>False</td>\n",
       "      <td>NaN</td>\n",
       "      <td>NaN</td>\n",
       "      <td>NaN</td>\n",
       "      <td>NaN</td>\n",
       "    </tr>\n",
       "    <tr>\n",
       "      <th>2580</th>\n",
       "      <td>NaN</td>\n",
       "      <td>[Action, Indie]</td>\n",
       "      <td>NaN</td>\n",
       "      <td>http://store.steampowered.com/app/317160/_/</td>\n",
       "      <td>2014-08-26</td>\n",
       "      <td>[Action, Indie]</td>\n",
       "      <td>NaN</td>\n",
       "      <td>http://steamcommunity.com/app/317160/reviews/?...</td>\n",
       "      <td>[Single-player, Game demo]</td>\n",
       "      <td>NaN</td>\n",
       "      <td>False</td>\n",
       "      <td>317160</td>\n",
       "      <td>NaN</td>\n",
       "      <td>Positive</td>\n",
       "      <td>NaN</td>\n",
       "    </tr>\n",
       "  </tbody>\n",
       "</table>\n",
       "</div>"
      ],
      "text/plain": [
       "     publisher           genres title   \n",
       "74         NaN              NaN   NaN  \\\n",
       "2580       NaN  [Action, Indie]   NaN   \n",
       "\n",
       "                                              url release_date   \n",
       "74                 http://store.steampowered.com/          NaN  \\\n",
       "2580  http://store.steampowered.com/app/317160/_/   2014-08-26   \n",
       "\n",
       "                 tags  discount_price   \n",
       "74                NaN           14.99  \\\n",
       "2580  [Action, Indie]             NaN   \n",
       "\n",
       "                                            reviews_url   \n",
       "74                                                  NaN  \\\n",
       "2580  http://steamcommunity.com/app/317160/reviews/?...   \n",
       "\n",
       "                           specs  price  early_access      id developer   \n",
       "74                           NaN  19.99         False     NaN       NaN  \\\n",
       "2580  [Single-player, Game demo]    NaN         False  317160       NaN   \n",
       "\n",
       "     sentiment metascore  \n",
       "74         NaN       NaN  \n",
       "2580  Positive       NaN  "
      ]
     },
     "execution_count": 453,
     "metadata": {},
     "output_type": "execute_result"
    }
   ],
   "source": [
    "#Veo los nulos y borro el de indice 74 porque tiene practicamente toda la informacion NaN\n",
    "df[df['title'].isnull()]\n"
   ]
  },
  {
   "cell_type": "code",
   "execution_count": 454,
   "metadata": {},
   "outputs": [],
   "source": [
    "df = df.drop(74)"
   ]
  },
  {
   "cell_type": "code",
   "execution_count": 455,
   "metadata": {},
   "outputs": [
    {
     "data": {
      "text/plain": [
       "array([4.99, 'Free To Play', 'Free to Play', 0.99, 2.99, 3.99, 9.99,\n",
       "       18.99, 29.99, nan, 'Free', 10.99, 1.59, 14.99, 1.99, 59.99, 8.99,\n",
       "       6.99, 7.99, 39.99, 19.99, 7.49, 12.99, 5.99, 2.49, 15.99, 1.25,\n",
       "       24.99, 17.99, 61.99, 3.49, 11.99, 13.99, 'Free Demo',\n",
       "       'Play for Free!', 34.99, 74.76, 1.49, 32.99, 99.99, 14.95, 69.99,\n",
       "       16.99, 79.99, 49.99, 5.0, 44.99, 13.98, 29.96, 119.99, 109.99,\n",
       "       149.99, 771.71, 'Install Now', 21.99, 89.99,\n",
       "       'Play WARMACHINE: Tactics Demo', 0.98, 139.92, 4.29, 64.99,\n",
       "       'Free Mod', 54.99, 74.99, 'Install Theme', 0.89, 'Third-party',\n",
       "       0.5, 'Play Now', 299.99, 1.29, 3.0, 15.0, 5.49, 23.99, 49.0, 20.99,\n",
       "       10.93, 1.39, 'Free HITMAN™ Holiday Pack', 36.99, 4.49, 2.0, 4.0,\n",
       "       9.0, 234.99, 1.95, 1.5, 199.0, 189.0, 6.66, 27.99, 10.49, 129.99,\n",
       "       179.0, 26.99, 399.99, 31.99, 399.0, 20.0, 40.0, 3.33, 199.99,\n",
       "       22.99, 320.0, 38.85, 71.7, 59.95, 995.0, 27.49, 3.39, 6.0, 19.95,\n",
       "       499.99, 16.06, 4.68, 131.4, 44.98, 202.76, 1.0, 2.3, 0.95, 172.24,\n",
       "       249.99, 2.97, 10.96, 10.0, 30.0, 2.66, 6.48, 19.29, 11.15, 18.9,\n",
       "       2.89, 'Play the Demo', 99.0, 87.94, 599.0, 8.98, 9.69, 0.49, 9.98,\n",
       "       9.95, 7.0, 'Starting at $499.00', 'Starting at $449.00', 12.89,\n",
       "       6.49, 1.87, 42.99, 41.99, 289.99, 'Free to Try', 23.96, 5.65, 12.0,\n",
       "       13.37, 189.96, 124.99, 'Free Movie', 19.98, 160.91, 'Free to Use'],\n",
       "      dtype=object)"
      ]
     },
     "execution_count": 455,
     "metadata": {},
     "output_type": "execute_result"
    }
   ],
   "source": [
    "# Veo los precios que no son numericos (Free, Demo, etc) y los reemplazo por 0 para tener un valor numerico. Tambien reemplazo los valores 'Starting at x' por su version numerica.\n",
    "df.price.unique()"
   ]
  },
  {
   "cell_type": "code",
   "execution_count": 456,
   "metadata": {},
   "outputs": [],
   "source": [
    "df['price'] = df['price'].replace(['Free To Play', 'Free to Play', 'Free', 'Free Demo', 'Play for Free!', 'Install Now', 'Play WARMACHINE: Tactics Demo', 'Free Mod', 'Install Theme', 'Third-party', 'Play Now', 'Free HITMAN™ Holiday Pack', 'Play the Demo', 'Free to Try', 'Free Movie', 'Free to Use'], 0.00)\n",
    "df['price'] = df['price'].replace(['Starting at $499.00'], 499.00)\n",
    "df['price'] = df['price'].replace(['Starting at $449.00'], 449.00)\n"
   ]
  },
  {
   "cell_type": "code",
   "execution_count": 457,
   "metadata": {},
   "outputs": [
    {
     "data": {
      "text/plain": [
       "0        2018-01-04\n",
       "1        2018-01-04\n",
       "2        2017-07-24\n",
       "3        2017-12-07\n",
       "4               NaN\n",
       "            ...    \n",
       "32130    2018-01-04\n",
       "32131    2018-01-04\n",
       "32132    2018-01-04\n",
       "32133    2017-09-02\n",
       "32134           NaN\n",
       "Name: release_date, Length: 32134, dtype: object"
      ]
     },
     "execution_count": 457,
     "metadata": {},
     "output_type": "execute_result"
    }
   ],
   "source": [
    "df.release_date"
   ]
  },
  {
   "cell_type": "code",
   "execution_count": 458,
   "metadata": {},
   "outputs": [],
   "source": [
    "from datetime import datetime"
   ]
  },
  {
   "cell_type": "markdown",
   "metadata": {},
   "source": [
    "fecha_str = '2020-02-02'\n",
    "\n",
    "# Convertir la fecha de texto a un objeto datetime\n",
    "fecha_obj = datetime.strptime(fecha_str, '%Y-%m-%d')\n",
    "\n",
    "# Obtener solo el año de la fecha\n",
    "anio = fecha_obj.year\n",
    "\n",
    "print(anio)"
   ]
  },
  {
   "cell_type": "code",
   "execution_count": 459,
   "metadata": {},
   "outputs": [],
   "source": [
    "#Convierto release_date a Anio. Si el valor es NaN lo devuelvo como tipo fecha NaN: NaT\n",
    "def convertir_a_anio(fecha_str):\n",
    "    if pd.notnull(fecha_str):\n",
    "        try:\n",
    "            fecha_convertida = datetime.strptime(fecha_str, '%Y-%m-%d')\n",
    "            anio = str(fecha_convertida.year)\n",
    "            return anio\n",
    "        except ValueError:\n",
    "            return pd.NaT \n",
    "    else:\n",
    "        return pd.NaT "
   ]
  },
  {
   "cell_type": "code",
   "execution_count": 460,
   "metadata": {},
   "outputs": [],
   "source": [
    "\n",
    "df['anio'] = df.release_date.apply(convertir_a_anio)"
   ]
  },
  {
   "cell_type": "code",
   "execution_count": 461,
   "metadata": {},
   "outputs": [],
   "source": [
    "#Expando el dataframe original para ver los distintos generos y Creo un dataframe nuevo con las columnas Genero y Anio\n",
    "df_generos = df.explode('genres')\n",
    "columnas_a_mantener = ['genres', 'anio']\n",
    "df_generos = df_generos.drop(columns=[col for col in df_generos.columns if col not in columnas_a_mantener])\n"
   ]
  },
  {
   "cell_type": "code",
   "execution_count": 462,
   "metadata": {},
   "outputs": [],
   "source": [
    "#Expando el dataframe original para ver los distintos specs y Creo un dataframe nuevo con las columnas a Specs y Anio\n",
    "df_specs = df.explode('specs')\n",
    "columnas_a_mantener = ['specs', 'anio']\n",
    "df_specs = df_specs.drop(columns=[col for col in df_specs.columns if col not in columnas_a_mantener])"
   ]
  },
  {
   "cell_type": "code",
   "execution_count": 463,
   "metadata": {},
   "outputs": [],
   "source": [
    "lista_generos = df_generos.genres.unique()"
   ]
  },
  {
   "cell_type": "code",
   "execution_count": 464,
   "metadata": {},
   "outputs": [
    {
     "data": {
      "text/plain": [
       "array(['Action', 'Casual', 'Indie', 'Simulation', 'Strategy',\n",
       "       'Free to Play', 'RPG', 'Sports', 'Adventure', nan, 'Racing',\n",
       "       'Early Access', 'Massively Multiplayer',\n",
       "       'Animation &amp; Modeling', 'Video Production', 'Utilities',\n",
       "       'Web Publishing', 'Education', 'Software Training',\n",
       "       'Design &amp; Illustration', 'Audio Production', 'Photo Editing',\n",
       "       'Accounting'], dtype=object)"
      ]
     },
     "execution_count": 464,
     "metadata": {},
     "output_type": "execute_result"
    }
   ],
   "source": [
    "lista_generos"
   ]
  },
  {
   "cell_type": "code",
   "execution_count": 465,
   "metadata": {},
   "outputs": [],
   "source": [
    "#Lleno los datos NaN con un string No data en la columna sentiment para poder trabajar esa columna completa\n",
    "df.sentiment.fillna(\"No data\", inplace=True)"
   ]
  },
  {
   "cell_type": "code",
   "execution_count": 472,
   "metadata": {},
   "outputs": [],
   "source": [
    "# Convierto los valores de string 'NA' en valores NaN con el parametro errors=coerce. Esto lo hago para poder tener solo numeros y NaN en la columna.\n",
    "df['metascore'] = pd.to_numeric(df['metascore'], errors='coerce')"
   ]
  },
  {
   "cell_type": "code",
   "execution_count": 547,
   "metadata": {},
   "outputs": [],
   "source": [
    "def genero(anio):\n",
    "    \n",
    "    df_gen_anio = df_generos[df_generos.anio == anio]\n",
    "    lista_generos = []\n",
    "    for _ in range (5):\n",
    "        mayor = df_gen_anio.genres.describe().top\n",
    "        lista_generos.append(mayor)\n",
    "        df_gen_anio =  df_gen_anio[df_gen_anio['genres'] != mayor]\n",
    "        \n",
    "    return {anio:lista_generos}\n",
    "    "
   ]
  },
  {
   "cell_type": "code",
   "execution_count": 544,
   "metadata": {},
   "outputs": [],
   "source": [
    "def juegos(anio):\n",
    "    df_juegos = df[df['anio'] == anio]\n",
    "    return {anio: list(df_juegos.title)}\n",
    "    "
   ]
  },
  {
   "cell_type": "code",
   "execution_count": 541,
   "metadata": {},
   "outputs": [],
   "source": [
    "def specs(anio):\n",
    "    df_specs_anio = df_specs[df_specs.anio == anio]\n",
    "    lista_specs = []\n",
    "    for _ in range (5):\n",
    "        mayor = df_specs_anio.specs.describe().top\n",
    "        lista_specs.append(mayor)\n",
    "        df_specs_anio =  df_specs_anio[df_specs_anio['specs'] != mayor]\n",
    "        \n",
    "    return {anio:lista_specs}"
   ]
  },
  {
   "cell_type": "code",
   "execution_count": 537,
   "metadata": {},
   "outputs": [],
   "source": [
    "def earlyaccess(anio):\n",
    "    df_early = df[df['anio'] == anio]\n",
    "    return {anio:df_early[df_early.early_access == True].title.count()}\n",
    "    \n",
    "    "
   ]
  },
  {
   "cell_type": "code",
   "execution_count": 402,
   "metadata": {},
   "outputs": [],
   "source": [
    "def sentiment(anio):\n",
    "    df_sent = df[df['anio'] == anio]\n",
    "    dicc = {}\n",
    "    mayor = ''\n",
    "    cantidad = 0\n",
    "    for i in range (len(df_sent.sentiment.unique())):\n",
    "        if df_sent.sentiment.describe().top == 'No data':\n",
    "            df_sent = df_sent[df_sent['sentiment'] != 'No data']\n",
    "        else:\n",
    "            mayor = df_sent.sentiment.describe().top\n",
    "            cantidad = df_sent.sentiment.describe().freq\n",
    "            dicc[mayor] = cantidad\n",
    "            df_sent = df_sent[df_sent['sentiment'] != mayor]\n",
    "    \n",
    "    return dicc"
   ]
  },
  {
   "cell_type": "code",
   "execution_count": 523,
   "metadata": {},
   "outputs": [],
   "source": [
    "def metascore(anio):\n",
    "    df_meta = df[df['anio'] == anio]\n",
    "    dicc_mayores = {}\n",
    "\n",
    "    df_meta_mayor = df_meta.sort_values(by=\"metascore\", ascending=False)\n",
    "    for _, fila in df_meta_mayor.iterrows():\n",
    "        if len(dicc_mayores) == 5 or df_meta_mayor.metascore.count() == len(dicc_mayores):\n",
    "            break\n",
    "        else:\n",
    "            dicc_mayores[fila['title']] = fila['metascore']\n",
    "    if len(dicc_mayores) == 0:\n",
    "        return \"No hay valoraciones registradas este anio\"\n",
    "    \n",
    "    return dicc_mayores\n",
    "    "
   ]
  }
 ],
 "metadata": {
  "kernelspec": {
   "display_name": "Python 3",
   "language": "python",
   "name": "python3"
  },
  "language_info": {
   "codemirror_mode": {
    "name": "ipython",
    "version": 3
   },
   "file_extension": ".py",
   "mimetype": "text/x-python",
   "name": "python",
   "nbconvert_exporter": "python",
   "pygments_lexer": "ipython3",
   "version": "3.11.0"
  },
  "orig_nbformat": 4
 },
 "nbformat": 4,
 "nbformat_minor": 2
}
